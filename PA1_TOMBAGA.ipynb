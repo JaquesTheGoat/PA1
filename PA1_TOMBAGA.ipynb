{
 "cells": [
  {
   "cell_type": "code",
   "execution_count": null,
   "id": "2c4238f1-963c-4f9a-84e0-3d2f5d3088f6",
   "metadata": {},
   "outputs": [],
   "source": []
  },
  {
   "cell_type": "code",
   "execution_count": 9,
   "id": "342b050d-ef06-4dbd-9b73-979c3846b66c",
   "metadata": {},
   "outputs": [],
   "source": [
    "#ALPHABET PROBLEM"
   ]
  },
  {
   "cell_type": "code",
   "execution_count": 13,
   "id": "ef69fc82-16a8-409c-81b8-a0584607157c",
   "metadata": {},
   "outputs": [
    {
     "name": "stdin",
     "output_type": "stream",
     "text": [
      "enter a string:  hello\n"
     ]
    },
    {
     "name": "stdout",
     "output_type": "stream",
     "text": [
      "Output: ehllo\n"
     ]
    }
   ],
   "source": [
    "def sort_string_alphabetically():\n",
    "    # Get a string from the user\n",
    "    user_string = input(\"enter a string: \")\n",
    "    \n",
    "    # Arrange the characters in alphabetical order\n",
    "    sorted_string = ''.join(sorted(user_string))\n",
    "    \n",
    "    return sorted_string\n",
    "\n",
    "# Example of how to use the function:\n",
    "result = sort_string_alphabetically()\n",
    "print(\"Output:\", result)\n"
   ]
  },
  {
   "cell_type": "code",
   "execution_count": null,
   "id": "c8c580a5-051c-4e37-b91c-42ded28d340b",
   "metadata": {},
   "outputs": [],
   "source": []
  },
  {
   "cell_type": "code",
   "execution_count": null,
   "id": "f1df91da-0a66-4fec-923a-f3b71e6ce2f0",
   "metadata": {},
   "outputs": [],
   "source": [
    "#EMOTICON PROBLEM"
   ]
  },
  {
   "cell_type": "code",
   "execution_count": 17,
   "id": "fd969dde-349e-47ad-8664-efcaa09d9fe8",
   "metadata": {},
   "outputs": [
    {
     "name": "stdin",
     "output_type": "stream",
     "text": [
      "Enter a sentence:  grin\n"
     ]
    },
    {
     "name": "stdout",
     "output_type": "stream",
     "text": [
      "output sentence: :D\n"
     ]
    }
   ],
   "source": [
    "def main():\n",
    "    # Get user input\n",
    "    sentence = input(\"Enter a sentence: \")\n",
    "    \n",
    "    # Convert words\n",
    "    sentence = convert(sentence)\n",
    "    \n",
    "    # Print converted\n",
    "    print(\"Output sentence:\", sentence)\n",
    "\n",
    "def convert(sentence):\n",
    "    # Replace words with emoticons\n",
    "    sentence = sentence.replace(\"smile\", \":)\")\n",
    "    sentence = sentence.replace(\"grin\", \":D\")\n",
    "    sentence = sentence.replace(\"sad\", \":(\")\n",
    "    sentence = sentence.replace(\"mad\", \">:(\")\n",
    "    \n",
    "    # Return modified sentence\n",
    "    return sentence\n",
    "\n",
    "# Start program\n",
    "main()\n"
   ]
  },
  {
   "cell_type": "code",
   "execution_count": null,
   "id": "2b8ec903-4767-4db8-b5bf-193512dccc8b",
   "metadata": {},
   "outputs": [],
   "source": []
  },
  {
   "cell_type": "code",
   "execution_count": null,
   "id": "d9e3091f-4314-4130-b4d4-c9cae31836a9",
   "metadata": {},
   "outputs": [],
   "source": [
    "#UNPACKING LIST PROBLEM"
   ]
  },
  {
   "cell_type": "code",
   "execution_count": 23,
   "id": "6c7956eb-ca43-4523-9e11-0dbdb2719b5f",
   "metadata": {},
   "outputs": [
    {
     "name": "stdin",
     "output_type": "stream",
     "text": [
      "Please provide a list of items:  HELLO HELLO HELLO\n"
     ]
    },
    {
     "name": "stdout",
     "output_type": "stream",
     "text": [
      "First item: HELLO\n",
      "Middle items: ['HELLO']\n",
      "Last item: HELLO\n"
     ]
    }
   ],
   "source": [
    "def unpack_and_display():\n",
    "    user_input = input(\"Please provide a list of items: \")\n",
    "    items = user_input.split()\n",
    "    \n",
    "    first_item, *middle_items, last_item = items\n",
    "    \n",
    "    print(\"First item:\", first_item)\n",
    "    print(\"Middle items:\", middle_items)\n",
    "    print(\"Last item:\", last_item)\n",
    "\n",
    "unpack_and_display()\n"
   ]
  },
  {
   "cell_type": "code",
   "execution_count": null,
   "id": "08153926-b294-4a61-af42-da52cdc551bf",
   "metadata": {},
   "outputs": [],
   "source": []
  }
 ],
 "metadata": {
  "kernelspec": {
   "display_name": "anaconda-panel-2023.05-py310",
   "language": "python",
   "name": "conda-env-anaconda-panel-2023.05-py310-py"
  },
  "language_info": {
   "codemirror_mode": {
    "name": "ipython",
    "version": 3
   },
   "file_extension": ".py",
   "mimetype": "text/x-python",
   "name": "python",
   "nbconvert_exporter": "python",
   "pygments_lexer": "ipython3",
   "version": "3.11.5"
  }
 },
 "nbformat": 4,
 "nbformat_minor": 5
}
